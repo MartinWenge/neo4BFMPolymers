{
 "cells": [
  {
   "cell_type": "code",
   "execution_count": 1,
   "metadata": {},
   "outputs": [],
   "source": [
    "import re"
   ]
  },
  {
   "cell_type": "code",
   "execution_count": 2,
   "metadata": {},
   "outputs": [],
   "source": [
    "# Some code to start with from \n",
    "# https://www.vipinajayakumar.com/parsing-text-with-python/#parsing-text-in-standard-format\n",
    "\n",
    "class neo4Polymer_BFM_fileparser:\n",
    "    \"\"\" Python class to read BFM-file headers written by the LeMonADE tool AnalyzerWriteBFMFile.\n",
    "    \n",
    "    The parser defines a set of keys that can be found in the BFM files.\n",
    "    \"\"\"\n",
    "    def __init__(self, fn):\n",
    "        \"\"\" Init function function of BFM fileparser introducing the read keys for the file header.\n",
    "        \n",
    "        Parameters:\n",
    "            fn (str): name of the BFM file\n",
    "            \n",
    "        Returns:\n",
    "            None\n",
    "        \"\"\"\n",
    "        self.filename = fn\n",
    "        self.key_dict = {\n",
    "            'mcs': re.compile(r'!mcs=(?P<mcs>\\d+)\\n'),\n",
    "            'number_of_monomers': re.compile(r'!number_of_monomers=(?P<number_of_monomers>\\d+)\\n'),\n",
    "            'box_x': re.compile(r'!box_x=(?P<box_x>\\d+)\\n'),\n",
    "            'box_y': re.compile(r'!box_y=(?P<box_y>\\d+)\\n'),\n",
    "            'box_z': re.compile(r'!box_z=(?P<box_z>\\d+)\\n'),\n",
    "            'periodic_x': re.compile(r'!periodic_x=(?P<periodic_x>\\d+)\\n'),\n",
    "            'periodic_y': re.compile(r'!periodic_y=(?P<periodic_y>\\d+)\\n'),\n",
    "            'periodic_z': re.compile(r'!periodic_z=(?P<periodic_z>\\d+)\\n'),\n",
    "            'nn_interaction': re.compile(r'!nn_interaction (\\d) (\\d) (?P<nn_interaction>\\d+\\.\\d+)\\n'),\n",
    "            'feature_name': re.compile(r'# Feature(?P<feature_name>.*)\\n'),\n",
    "        }\n",
    "        \n",
    "    \n",
    "    def _parse_line(self,line):\n",
    "        \"\"\" Apply the regex dictionary on every line to find key value pairs\n",
    "        \n",
    "        Parameters:\n",
    "            line (str): the actual line of the file or a string\n",
    "            \n",
    "        Returns:\n",
    "            key and value of the regex dictionary defined in rx_dict if something was found\n",
    "            None, None otherwise\n",
    "        \"\"\"\n",
    "        for key, rx in self.key_dict.items():\n",
    "            match = rx.search(line)\n",
    "            if match:\n",
    "                return key, match.group(key)\n",
    "        # if there are no matches\n",
    "        return None, None\n",
    "\n",
    "\n",
    "    def parse_file(self):\n",
    "        \"\"\"Parse contant of a given bfm file\n",
    "    \n",
    "        Parameters:\n",
    "            filepath (str): path to the bfm file\n",
    "            \n",
    "        Returns:\n",
    "            data (list): parsed data summarized\n",
    "    \n",
    "        \"\"\"\n",
    "        # create an empty list to collect the data\n",
    "        data = []  \n",
    "        # open the file and read through it line by line\n",
    "        with open(self.filename, 'r') as file_object:\n",
    "            line = file_object.readline()\n",
    "            counter = 0\n",
    "            while line:\n",
    "                # at each line check for a match with a regex\n",
    "                key, match = self._parse_line(line)\n",
    "                \n",
    "                # check the total number of lines read in\n",
    "                counter = counter + 1\n",
    "                \n",
    "                # find mcs to stop after header\n",
    "                if key == 'mcs':\n",
    "                    data.append([key,match])\n",
    "                    print(\"reached mcs command, stop reading. last mcs= \", match)\n",
    "                    # does this finish the loop?\n",
    "                    line = False\n",
    "                    # close file\n",
    "    \n",
    "                # matches with value on line\n",
    "                if key == 'number_of_monomers':\n",
    "                    data.append([key,match])\n",
    "                    print(\"Number of monomers = \", match)\n",
    "                    \n",
    "                if key == 'box_x':\n",
    "                    data.append([key,match])\n",
    "                    print(\"box_x = \", match)\n",
    "                \n",
    "                if key == 'box_y':\n",
    "                    data.append([key,match])\n",
    "                    print(\"box_y = \", match)\n",
    "                    \n",
    "                if key == 'box_z':\n",
    "                    data.append([key,match])\n",
    "                    print(\"box_z = \", match)\n",
    "                    \n",
    "                if key == 'periodic_x':\n",
    "                    data.append([key,match])\n",
    "                    print(\"periodic_x = \", match)\n",
    "                    \n",
    "                if key == 'periodic_y':\n",
    "                    data.append([key,match])\n",
    "                    print(\"periodic_y = \", match)\n",
    "                \n",
    "                if key == 'periodic_z':\n",
    "                    data.append([key,match])\n",
    "                    print(\"periodic_z = \", match)\n",
    "                \n",
    "                if key == 'nn_interaction':\n",
    "                    data.append([key,match])\n",
    "                    print(\"nn_interaction = \", match)\n",
    "                \n",
    "                if key == 'feature_name':\n",
    "                    data.append([key,\"Feature\"+match])\n",
    "                    print(\"feature_name = \", match)\n",
    "    \n",
    "    # --------------------------------------------- not modified yet ------------------------------------------------#\n",
    "                # # identify a table header \n",
    "                # if key == 'name_score':\n",
    "                #     # extract type of table, i.e., Name or Score\n",
    "                #     value_type = match.group('name_score')\n",
    "                #     line = file_object.readline()\n",
    "                #     # read each line of the table until a blank line\n",
    "                #     while line.strip():\n",
    "                #         # extract number and value\n",
    "                #         number, value = line.strip().split(',')\n",
    "                #         value = value.strip()\n",
    "                #         # create a dictionary containing this row of data\n",
    "                #         row = {\n",
    "                #             'School': school,\n",
    "                #             'Grade': grade,\n",
    "                #             'Student number': number,\n",
    "                #             value_type: value\n",
    "                #         }\n",
    "                #         # append the dictionary to the data list\n",
    "                #         data.append(row)\n",
    "                #         line = file_object.readline()\n",
    "    # --------------------------------------------- not modified yet ------------------------------------------------#\n",
    "                # read next line\n",
    "                line = file_object.readline()\n",
    "            \n",
    "            # close the file savely as there might be many files \n",
    "            file_object.close()\n",
    "            \n",
    "        return data"
   ]
  },
  {
   "cell_type": "code",
   "execution_count": 3,
   "metadata": {},
   "outputs": [
    {
     "name": "stdout",
     "output_type": "stream",
     "text": [
      "feature_name =  MoleculesIO\n",
      "feature_name =  Box\n",
      "feature_name =  Bondset<FastBondset>\n",
      "feature_name =  Attributes<int>\n",
      "feature_name =  LatticePowerOfTwo<unsigned char>\n",
      "feature_name =  ExcludedVolumeSc<FeatureLatticePowerOfTwo<unsigned char> >\n",
      "feature_name =  NNInteractionSc<FeatureLatticePowerOfTwo>\n",
      "feature_name =  Boltzmann\n",
      "Number of monomers =  133367\n",
      "box_x =  128\n",
      "box_y =  128\n",
      "box_z =  128\n",
      "periodic_x =  1\n",
      "periodic_y =  1\n",
      "periodic_z =  1\n",
      "nn_interaction =  0.8\n",
      "nn_interaction =  0.8\n",
      "reached mcs command, stop reading. last mcs=  1450000000\n",
      "[['feature_name', 'FeatureMoleculesIO'], ['feature_name', 'FeatureBox'], ['feature_name', 'FeatureBondset<FastBondset>'], ['feature_name', 'FeatureAttributes<int>'], ['feature_name', 'FeatureLatticePowerOfTwo<unsigned char>'], ['feature_name', 'FeatureExcludedVolumeSc<FeatureLatticePowerOfTwo<unsigned char> >'], ['feature_name', 'FeatureNNInteractionSc<FeatureLatticePowerOfTwo>'], ['feature_name', 'FeatureBoltzmann'], ['number_of_monomers', '133367'], ['box_x', '128'], ['box_y', '128'], ['box_z', '128'], ['periodic_x', '1'], ['periodic_y', '1'], ['periodic_z', '1'], ['nn_interaction', '0.8'], ['nn_interaction', '0.8'], ['mcs', '1450000000']]\n"
     ]
    }
   ],
   "source": [
    "bfmFileParser = neo4Polymer_BFM_fileparser(\"bfm_files/codmuc_micelle_g3_s4_m27_l4_e0.8_b128_1425000000_lastconfig.bfm\")\n",
    "myTestData = bfmFileParser.parse_file()\n",
    "print(myTestData)"
   ]
  },
  {
   "cell_type": "code",
   "execution_count": 20,
   "metadata": {},
   "outputs": [
    {
     "name": "stdout",
     "output_type": "stream",
     "text": [
      "['0.8', '0.8']\n"
     ]
    }
   ],
   "source": [
    "\n",
    "search = \"nn_interaction\"\n",
    "#search = \"feature_name\"\n",
    "\n",
    "result = [dataArrayElement[1] for dataArrayElement in myTestData if dataArrayElement[0] == search]\n",
    "print(result)"
   ]
  },
  {
   "cell_type": "code",
   "execution_count": 21,
   "metadata": {},
   "outputs": [
    {
     "data": {
      "text/plain": [
       "True"
      ]
     },
     "execution_count": 21,
     "metadata": {},
     "output_type": "execute_result"
    }
   ],
   "source": [
    "all(x==result[0] for x in result)"
   ]
  },
  {
   "cell_type": "code",
   "execution_count": null,
   "metadata": {},
   "outputs": [],
   "source": []
  }
 ],
 "metadata": {
  "kernelspec": {
   "display_name": "Python 3",
   "language": "python",
   "name": "python3"
  },
  "language_info": {
   "codemirror_mode": {
    "name": "ipython",
    "version": 3
   },
   "file_extension": ".py",
   "mimetype": "text/x-python",
   "name": "python",
   "nbconvert_exporter": "python",
   "pygments_lexer": "ipython3",
   "version": "3.7.6"
  }
 },
 "nbformat": 4,
 "nbformat_minor": 2
}
