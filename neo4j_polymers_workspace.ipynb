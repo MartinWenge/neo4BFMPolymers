{
 "cells": [
  {
   "cell_type": "code",
   "execution_count": 66,
   "metadata": {},
   "outputs": [],
   "source": [
    "from py2neo import Graph, NodeMatcher, RelationshipMatcher\n",
    "import pandas as pd\n",
    "from datetime import date"
   ]
  },
  {
   "cell_type": "code",
   "execution_count": 67,
   "metadata": {},
   "outputs": [],
   "source": [
    "# connect to the graph -> it should be running already\n",
    "graph = Graph(scheme=\"bolt\", host=\"localhost\", port=7687, auth=('neo4j', '12345'))\n",
    "\n",
    "# clean up the database and PERMANENTLY delete all nodes and relationships\n",
    "#graph.delete_all()\n",
    "# clean up only a elements satisfying a specific MATCH\n",
    "#query = \"MATCH (n) WHERE n.name=.. delete n\"\n",
    "#graph.run(query)\n",
    "\n",
    "##  ----------------  ##\n",
    "# development milestone: add all functions to a class that holds the graph as a member\n",
    "##  ----------------  ##"
   ]
  },
  {
   "cell_type": "code",
   "execution_count": 123,
   "metadata": {},
   "outputs": [],
   "source": [
    "# utility functions ready to be used\n",
    "\n",
    "class neo2BFMPolymer:\n",
    "    \"\"\"Python class to work on a neo4j graph data base with bfm polymer simulation data.\n",
    "    \n",
    "    Attributes:\n",
    "        graph (py2neo.Graph): instance of the graph to access the neo4j database\n",
    "        nodeMatcher (py2neo.NodeMatcher): matcher for the graph to evaluate nodes according to certain criteria.\n",
    "        nodeMatcher (py2neo.RelationshipMatcher): matcher for the graph to evaluate relationships according to certain criteria.\n",
    "    \"\"\"\n",
    "    \n",
    "    def __init__(self, graph):\n",
    "        \"\"\"Constructor of the neo2BFMPolmyer class\n",
    "        \n",
    "        Parameters:\n",
    "            graph (py2neo.Graph): instance of the graph to access the neo4j database\n",
    "        \"\"\"\n",
    "        self.graph       = graph\n",
    "        self.nodeMatcher = NodeMatcher(self.graph)\n",
    "        self.relaMatcher = RelationshipMatcher(self.graph)\n",
    "    \n",
    "    \n",
    "    def addNodeGeneral(self, nodeTypeName, nodeName):\n",
    "        \"\"\"Utility function adding a new node if it does not already exist.\n",
    "        \n",
    "        Paramters:\n",
    "            nodeType (str): name of the node type\n",
    "            nodeName (str): name property of the new node\n",
    "            \n",
    "        Returns:\n",
    "            exit code (bool): True if node was added, False if node already exists\n",
    "        \"\"\"\n",
    "        elementExists = self.graph.run(\"MATCH (elem:{}) WHERE elem.name=\\\"{}\\\" return elem\".format(nodeTypeName,nodeName)).data()\n",
    "        if (len(elementExists) > 0):\n",
    "            print(\"WARNING: node of type {} with name {} already exists!\".format(nodeTypeName,nodeName))\n",
    "            return False\n",
    "        else:\n",
    "            query = \"CREATE (pl:{} {{ name: \\'{}\\', createdOn: \\'{}\\' }} )\".format(nodeTypeName, nodeName, date.today())\n",
    "            self.graph.run(query)\n",
    "            return True\n",
    "    \n",
    "    \n",
    "    def addNewPolymer(self, polymerName):\n",
    "        \"\"\"Adding a new Polymer node to the database.\n",
    "        \n",
    "        This function adds a node of type Polymer with the given name and a date tag to the database.\n",
    "        If the database already contains a Polymer node with this name property, a warnig is printed\n",
    "        and no create query is called to avoid node doubling.\n",
    "        \n",
    "        Paramters:\n",
    "            polymerName (str): name property of the new Polymer node\n",
    "            \n",
    "        Returns:\n",
    "            exit code (bool): True if node was added, False if node already exists\n",
    "        \"\"\"\n",
    "        nodeTypeName = \"Polymer\"\n",
    "        nodePropertyName = polymerName\n",
    "        \n",
    "        return self.addNodeGeneral(nodeTypeName, nodePropertyName)\n",
    "    \n",
    "    \n",
    "    def addNewSimulationType(self, simulationTypeName):\n",
    "        \"\"\"Adding a new Simulation node to the database.\n",
    "        \n",
    "        A simulation node represents a certain simulation setup such as \"linear polymer melt\" or \"single star polymer\".\n",
    "        This function adds a node of type Simulations with the given name and a date tag to the database.\n",
    "        If the database already contains a Simulation node with this name property, a warnig is printed\n",
    "        and no create query is called to avoid node doubling.\n",
    "        \n",
    "        Paramters:\n",
    "            simulationTypeName (str): name property of the new Simulation node\n",
    "            \n",
    "        Returns:\n",
    "            exit code (bool): True if node was added, False if node already exists\n",
    "        \"\"\"\n",
    "        nodeTypeName = \"Simulation\"\n",
    "        nodePropertyName = simulationTypeName\n",
    "        \n",
    "        return self.addNodeGeneral(nodeTypeName, nodePropertyName)\n",
    "    \n",
    "    \n",
    "    def connectSimulationToPolymer(self,polymerName,simulationName):\n",
    "        \"\"\"Connecting a node of type Polymer with a node of type Simulation by a CONTAINS\n",
    "        \n",
    "        A connection of type CONTAINS is added between a Polymer node and a Simualtion node,\n",
    "        heading in the direction of the polymer.\n",
    "        The connection is only created if the nodes exist and the connection did not already exist.\n",
    "        In this case, a warning is printed.\n",
    "        \n",
    "        Parameters:\n",
    "            polymerName (str): name of the Polymer node\n",
    "            simulationName (str): name of the Simulation node\n",
    "            \n",
    "        Returns:\n",
    "            exit code (bool): True if connection was added, False if connection already exists or nodes do not exist\n",
    "        \"\"\"\n",
    "        nodeType1 = \"Polymer\"\n",
    "        nodeName1 = polymerName\n",
    "        nodeType2 = \"Simulation\"\n",
    "        nodeName2 = simulationName\n",
    "        connectionType = \"CONTAINS\"\n",
    "        \n",
    "        elementExists1 = self.graph.evaluate(\"MATCH (elem:{}) WHERE elem.name=\\\"{}\\\" return elem.name\".format(nodeType1,nodeName1))\n",
    "        elementExists2 = self.graph.evaluate(\"MATCH (elem:{}) WHERE elem.name=\\\"{}\\\" return elem.name\".format(nodeType2,nodeName2))\n",
    "        \n",
    "        if (elementExists1 == nodeName1):\n",
    "            if (elementExists2 == nodeName2):\n",
    "                query = \"MATCH( ({} {{ name: \\'{}\\'}}) <- [rel:{}] - ({} {{ name: \\'{}\\'}}) ) return rel\".format(\n",
    "                    nodeType1,nodeName1,connectionType,nodeType2,nodeName2)\n",
    "                elementExists = self.graph.evaluate(query)\n",
    "                if (elementExists == None):\n",
    "                    query = '''MATCH (p:{}) WHERE p.name=\\\"{}\\\"\n",
    "                               MATCH (s:{}) WHERE s.name=\\\"{}\\\"\n",
    "                               MERGE (s)-[r:{}]->(p)\n",
    "                    '''.format(nodeType1,nodeName1,nodeType2,nodeName2,connectionType)\n",
    "                    self.graph.run(query)\n",
    "                    return True\n",
    "                \n",
    "                else:\n",
    "                    print(\"WARNING: connection of type {} between {} and {} already exists!\".format(connectionType,nodeName1,nodeName2))\n",
    "                    return False\n",
    "                \n",
    "            else:\n",
    "                print(\"WARNING: node of type {} with name {} does not exists!\".format(nodeType2,nodeName2))\n",
    "                return False\n",
    "            \n",
    "        else:\n",
    "            print(\"WARNING: node of type {} with name {} does not exists!\".format(nodeType1,nodeName1))\n",
    "            return False\n",
    "\n",
    "        "
   ]
  },
  {
   "cell_type": "code",
   "execution_count": 126,
   "metadata": {},
   "outputs": [
    {
     "name": "stdout",
     "output_type": "stream",
     "text": [
      "add linear chain as polymer:  True\n",
      "add dendrimers as polymer:  True\n",
      "add star polymer as polymer:  True\n",
      "add comb polymer as polymer:  True\n",
      "add Linear Polymer Melt as Simulation:  True\n",
      "add Single Linear Polymer as Simulation:  True\n",
      "add Single Dendrimer as Simulation:  True\n",
      "add Mixture Dendrimer and Linear Chains as Simulation:  True\n",
      "connect polymer and Melt True\n",
      "connect polymer and single chain True\n",
      "connect dendrimers True\n",
      "connect dendrimers True\n",
      "connect dendrimers True\n"
     ]
    }
   ],
   "source": [
    "# test the functions\n",
    "graph.delete_all()\n",
    "myNeoPolymers = neo2BFMPolymer(graph)\n",
    "print(\"add linear chain as polymer: \", myNeoPolymers.addNewPolymer(\"Linear Chain\"))\n",
    "print(\"add dendrimers as polymer: \", myNeoPolymers.addNewPolymer(\"Dendrimer\"))\n",
    "print(\"add star polymer as polymer: \", myNeoPolymers.addNewPolymer(\"Star Polymer\"))\n",
    "print(\"add comb polymer as polymer: \", myNeoPolymers.addNewPolymer(\"Comb Polymer\"))\n",
    "\n",
    "print(\"add Linear Polymer Melt as Simulation: \", myNeoPolymers.addNewSimulationType(\"Linear Polymer Melt\"))\n",
    "print(\"add Single Linear Polymer as Simulation: \", myNeoPolymers.addNewSimulationType(\"Single Linear Polymer\"))\n",
    "print(\"add Single Dendrimer as Simulation: \", myNeoPolymers.addNewSimulationType(\"Single Dendrimer\"))\n",
    "print(\"add Mixture Dendrimer and Linear Chains as Simulation: \", myNeoPolymers.addNewSimulationType(\"Mixture Dendrimer and Linear Chains\"))\n",
    "\n",
    "print(\"connect polymer and Melt\", myNeoPolymers.connectSimulationToPolymer(\"Linear Chain\", \"Linear Polymer Melt\"))\n",
    "print(\"connect polymer and single chain\", myNeoPolymers.connectSimulationToPolymer(\"Linear Chain\", \"Single Linear Polymer\"))\n",
    "print(\"connect dendrimers\", myNeoPolymers.connectSimulationToPolymer(\"Dendrimer\", \"Single Dendrimer\"))\n",
    "print(\"connect dendrimers\", myNeoPolymers.connectSimulationToPolymer(\"Dendrimer\", \"Mixture Dendrimer and Linear Chains\"))\n",
    "print(\"connect dendrimers\", myNeoPolymers.connectSimulationToPolymer(\"Linear Chain\", \"Mixture Dendrimer and Linear Chains\"))\n"
   ]
  },
  {
   "cell_type": "code",
   "execution_count": null,
   "metadata": {},
   "outputs": [],
   "source": []
  },
  {
   "cell_type": "code",
   "execution_count": null,
   "metadata": {},
   "outputs": [],
   "source": [
    "## Here some try and error snippets I want to keep for the moment follow:"
   ]
  },
  {
   "cell_type": "code",
   "execution_count": 98,
   "metadata": {},
   "outputs": [
    {
     "name": "stdout",
     "output_type": "stream",
     "text": [
      "[{'elem': (_8:Polymer {createdOn: '2020-06-25', name: 'Comblike Polymer'})}, {'elem': (_9:Polymer {createdOn: '2020-06-25', name: 'Comblike Polymer'})}]\n",
      "WARNING: node of type Polymer with name Comblike Polymer already exists!\n"
     ]
    }
   ],
   "source": [
    "# Create the generic type \n",
    "\n",
    "nodeTypeName = \"Simulation\"\n",
    "nodePropertyName = \"Comblike Polymer\"\n",
    "\n",
    "elementExists = graph.run(\"MATCH (elem:{}) WHERE elem.name=\\\"{}\\\" return elem\".format(nodeTypeName,nodePropertyName)).data()\n",
    "print(elementExists)\n",
    "if (len(elementExists) > 0):\n",
    "    print(\"WARNING: node of type {} with name {} already exists!\".format(nodeTypeName,nodePropertyName))\n",
    "else:\n",
    "    query = \"CREATE (pl:{} {{ name: \\'{}\\', createdOn: \\'{}\\' }} )\".format(nodeTypeName, nodePropertyName, date.today())\n",
    "    print(query)\n",
    "    graph.run(query)\n",
    "\n",
    "#query = \"MATCH (pD:Polymer) return pD\"\n",
    "#result = graph.run(\"MATCH (elem:{}) WHERE elem.name=\\\"{}\\\" return elem\".format(nodeTypeName,nodePropertyName)).data()\n",
    "#simTypeAlias = Node(\"Polymer\", name = \"linear chains\")\n",
    "#CREATE (n:Person { name: 'Andy', title: 'Developer' })\n",
    "# polymerLinearChain = graph.run(\"CREATE (pl:Polymer { name: 'Linear Chains'} )\")\n",
    "\n",
    "#polymerLinearChain = graph.run(\"CREATE (pl:Polymer { name: 'Linear Chains'} )\")"
   ]
  },
  {
   "cell_type": "code",
   "execution_count": 23,
   "metadata": {},
   "outputs": [],
   "source": [
    "#polymerDendrimer, = graph.run(\"CREATE (a:Polymer { name: 'Dendrimer'} )\")\n",
    "polymerDendrimer = graph.run(\"CREATE (pd:Polymer { name: 'Dendrimer'} )\")"
   ]
  },
  {
   "cell_type": "code",
   "execution_count": 74,
   "metadata": {},
   "outputs": [
    {
     "name": "stdout",
     "output_type": "stream",
     "text": [
      "[]\n"
     ]
    }
   ],
   "source": [
    "simDIPS = graph.run(\"CREATE (a:Simulation {name: 'Mixture of Dendrimers and Linear Polymer Chains'})\").data()\n",
    "print(simDIPS)"
   ]
  },
  {
   "cell_type": "code",
   "execution_count": 43,
   "metadata": {},
   "outputs": [
    {
     "name": "stdout",
     "output_type": "stream",
     "text": [
      "print (only!) the first element of MATCH query:\n",
      " None\n"
     ]
    },
    {
     "ename": "TypeError",
     "evalue": "'NoneType' object is not subscriptable",
     "output_type": "error",
     "traceback": [
      "\u001b[1;31m---------------------------------------------------------------------------\u001b[0m",
      "\u001b[1;31mTypeError\u001b[0m                                 Traceback (most recent call last)",
      "\u001b[1;32m<ipython-input-43-ee84b78850b6>\u001b[0m in \u001b[0;36m<module>\u001b[1;34m\u001b[0m\n\u001b[0;32m      5\u001b[0m \u001b[1;31m# result if of type  py2neo.data.Node\u001b[0m\u001b[1;33m\u001b[0m\u001b[1;33m\u001b[0m\u001b[1;33m\u001b[0m\u001b[0m\n\u001b[0;32m      6\u001b[0m \u001b[0mprint\u001b[0m\u001b[1;33m(\u001b[0m\u001b[1;34m\"print (only!) the first element of MATCH query:\\n\"\u001b[0m\u001b[1;33m,\u001b[0m \u001b[0mresult\u001b[0m\u001b[1;33m)\u001b[0m\u001b[1;33m\u001b[0m\u001b[1;33m\u001b[0m\u001b[0m\n\u001b[1;32m----> 7\u001b[1;33m \u001b[0mprint\u001b[0m\u001b[1;33m(\u001b[0m\u001b[1;34m\"\\naccess properties with [] operator:\\t\"\u001b[0m\u001b[1;33m,\u001b[0m \u001b[0mresult\u001b[0m\u001b[1;33m[\u001b[0m\u001b[1;34m\"name\"\u001b[0m\u001b[1;33m]\u001b[0m\u001b[1;33m)\u001b[0m\u001b[1;33m\u001b[0m\u001b[1;33m\u001b[0m\u001b[0m\n\u001b[0m",
      "\u001b[1;31mTypeError\u001b[0m: 'NoneType' object is not subscriptable"
     ]
    }
   ],
   "source": [
    "#access a single node\n",
    "query = \"MATCH (pD:Polymer) WHERE pD.name='Dendrimer' return pD\"\n",
    "#query = \"MATCH (pD:Polymer) return pD\"\n",
    "result = graph.evaluate(query)\n",
    "# result if of type  py2neo.data.Node\n",
    "print(\"print (only!) the first element of MATCH query:\\n\", result)\n",
    "print(\"\\naccess properties with [] operator:\\t\", result[\"name\"])"
   ]
  },
  {
   "cell_type": "code",
   "execution_count": 72,
   "metadata": {},
   "outputs": [
    {
     "name": "stdout",
     "output_type": "stream",
     "text": [
      "[{'pD': (_0:Polymer {name: 'Linear Chains'})}, {'pD': (_1:Polymer {name: 'Dendrimer'})}]\n",
      "                          pD\n",
      "0  {'name': 'Linear Chains'}\n",
      "1      {'name': 'Dendrimer'}\n"
     ]
    }
   ],
   "source": [
    "query = \"MATCH (pD:Polymer) return pD\"\n",
    "result = graph.run(query).data()\n",
    "print(result)\n",
    "print(pd.DataFrame(result))"
   ]
  },
  {
   "cell_type": "code",
   "execution_count": 65,
   "metadata": {},
   "outputs": [
    {
     "data": {
      "text/plain": [
       "py2neo.data.Node"
      ]
     },
     "execution_count": 65,
     "metadata": {},
     "output_type": "execute_result"
    }
   ],
   "source": [
    "# Add a new relationship between existing nodes, here with relation type \"CONTAINS\":\n",
    "\n",
    "# MATCH (p:Polymer) WHERE p.name=\"Dendrimer\"\n",
    "# MATCH (s:Simulation) WHERE s.name=\"Mixture of Dendrimers and Linear Polymer Chains\"\n",
    "# MERGE (s)-[r:CONTAINS]->(p)\n",
    "\n",
    "query = '''\n",
    "MATCH (p:Polymer) WHERE p.name=\"Linear Chains\"\n",
    "MATCH (s:Simulation) WHERE s.name=\"Mixture of Dendrimers and Linear Polymer Chains\"\n",
    "MERGE (s)-[r:CONTAINS]->(p)\n",
    "'''\n",
    "graph.run(query)\n",
    "\n",
    "query = '''\n",
    "MATCH (p:Polymer) WHERE p.name=\"Dendrimer\"\n",
    "MATCH (s:Simulation) WHERE s.name=\"Mixture of Dendrimers and Linear Polymer Chains\"\n",
    "MERGE (s)-[r:CONTAINS]->(p)\n",
    "'''\n",
    "graph.run(query)"
   ]
  },
  {
   "cell_type": "code",
   "execution_count": 53,
   "metadata": {},
   "outputs": [
    {
     "name": "stdout",
     "output_type": "stream",
     "text": [
      "<py2neo.matching.RelationshipMatch object at 0x7f16db1b8a10>\n"
     ]
    }
   ],
   "source": [
    "print(res)"
   ]
  },
  {
   "cell_type": "code",
   "execution_count": 75,
   "metadata": {},
   "outputs": [
    {
     "ename": "ClientError",
     "evalue": "ConstraintValidationFailed: Cannot delete node<2>, because it still has relationships. To delete this node, you must first delete its relationships.",
     "output_type": "error",
     "traceback": [
      "\u001b[0;31m---------------------------------------------------------------------------\u001b[0m",
      "\u001b[0;31mClientError\u001b[0m                               Traceback (most recent call last)",
      "\u001b[0;32m<ipython-input-75-405b40734b33>\u001b[0m in \u001b[0;36m<module>\u001b[0;34m\u001b[0m\n\u001b[1;32m      1\u001b[0m \u001b[0mquery\u001b[0m \u001b[0;34m=\u001b[0m \u001b[0;34m\"MATCH (n:Simulation) WHERE n.name='Mixture of Dendrimers and Linear Polymer Chains' delete n\"\u001b[0m\u001b[0;34m\u001b[0m\u001b[0;34m\u001b[0m\u001b[0m\n\u001b[0;32m----> 2\u001b[0;31m \u001b[0mgraph\u001b[0m\u001b[0;34m.\u001b[0m\u001b[0mrun\u001b[0m\u001b[0;34m(\u001b[0m\u001b[0mquery\u001b[0m\u001b[0;34m)\u001b[0m\u001b[0;34m\u001b[0m\u001b[0;34m\u001b[0m\u001b[0m\n\u001b[0m",
      "\u001b[0;32m~/anaconda3/lib/python3.7/site-packages/py2neo/database.py\u001b[0m in \u001b[0;36mrun\u001b[0;34m(self, cypher, parameters, **kwparameters)\u001b[0m\n\u001b[1;32m    531\u001b[0m         \u001b[0;34m:\u001b[0m\u001b[0;32mreturn\u001b[0m\u001b[0;34m:\u001b[0m\u001b[0;34m\u001b[0m\u001b[0;34m\u001b[0m\u001b[0m\n\u001b[1;32m    532\u001b[0m         \"\"\"\n\u001b[0;32m--> 533\u001b[0;31m         \u001b[0;32mreturn\u001b[0m \u001b[0mself\u001b[0m\u001b[0;34m.\u001b[0m\u001b[0mbegin\u001b[0m\u001b[0;34m(\u001b[0m\u001b[0mautocommit\u001b[0m\u001b[0;34m=\u001b[0m\u001b[0;32mTrue\u001b[0m\u001b[0;34m)\u001b[0m\u001b[0;34m.\u001b[0m\u001b[0mrun\u001b[0m\u001b[0;34m(\u001b[0m\u001b[0mcypher\u001b[0m\u001b[0;34m,\u001b[0m \u001b[0mparameters\u001b[0m\u001b[0;34m,\u001b[0m \u001b[0;34m**\u001b[0m\u001b[0mkwparameters\u001b[0m\u001b[0;34m)\u001b[0m\u001b[0;34m\u001b[0m\u001b[0;34m\u001b[0m\u001b[0m\n\u001b[0m\u001b[1;32m    534\u001b[0m \u001b[0;34m\u001b[0m\u001b[0m\n\u001b[1;32m    535\u001b[0m     \u001b[0;32mdef\u001b[0m \u001b[0mseparate\u001b[0m\u001b[0;34m(\u001b[0m\u001b[0mself\u001b[0m\u001b[0;34m,\u001b[0m \u001b[0msubgraph\u001b[0m\u001b[0;34m)\u001b[0m\u001b[0;34m:\u001b[0m\u001b[0;34m\u001b[0m\u001b[0;34m\u001b[0m\u001b[0m\n",
      "\u001b[0;32m~/anaconda3/lib/python3.7/site-packages/py2neo/database.py\u001b[0m in \u001b[0;36mrun\u001b[0;34m(self, cypher, parameters, **kwparameters)\u001b[0m\n\u001b[1;32m    826\u001b[0m                                              \u001b[0mgraph\u001b[0m\u001b[0;34m=\u001b[0m\u001b[0mself\u001b[0m\u001b[0;34m.\u001b[0m\u001b[0mgraph\u001b[0m\u001b[0;34m,\u001b[0m\u001b[0;34m\u001b[0m\u001b[0;34m\u001b[0m\u001b[0m\n\u001b[1;32m    827\u001b[0m                                              \u001b[0mkeys\u001b[0m\u001b[0;34m=\u001b[0m\u001b[0;34m[\u001b[0m\u001b[0;34m]\u001b[0m\u001b[0;34m,\u001b[0m\u001b[0;34m\u001b[0m\u001b[0;34m\u001b[0m\u001b[0m\n\u001b[0;32m--> 828\u001b[0;31m                                              entities=entities))\n\u001b[0m\u001b[1;32m    829\u001b[0m         \u001b[0;32mexcept\u001b[0m \u001b[0mCypherError\u001b[0m \u001b[0;32mas\u001b[0m \u001b[0merror\u001b[0m\u001b[0;34m:\u001b[0m\u001b[0;34m\u001b[0m\u001b[0;34m\u001b[0m\u001b[0m\n\u001b[1;32m    830\u001b[0m             \u001b[0;32mraise\u001b[0m \u001b[0mGraphError\u001b[0m\u001b[0;34m.\u001b[0m\u001b[0mhydrate\u001b[0m\u001b[0;34m(\u001b[0m\u001b[0;34m{\u001b[0m\u001b[0;34m\"code\"\u001b[0m\u001b[0;34m:\u001b[0m \u001b[0merror\u001b[0m\u001b[0;34m.\u001b[0m\u001b[0mcode\u001b[0m\u001b[0;34m,\u001b[0m \u001b[0;34m\"message\"\u001b[0m\u001b[0;34m:\u001b[0m \u001b[0merror\u001b[0m\u001b[0;34m.\u001b[0m\u001b[0mmessage\u001b[0m\u001b[0;34m}\u001b[0m\u001b[0;34m)\u001b[0m\u001b[0;34m\u001b[0m\u001b[0;34m\u001b[0m\u001b[0m\n",
      "\u001b[0;32m~/anaconda3/lib/python3.7/site-packages/py2neo/internal/connectors.py\u001b[0m in \u001b[0;36mrun\u001b[0;34m(self, statement, parameters, tx, graph, keys, entities)\u001b[0m\n\u001b[1;32m    290\u001b[0m     \u001b[0;32mdef\u001b[0m \u001b[0mrun\u001b[0m\u001b[0;34m(\u001b[0m\u001b[0mself\u001b[0m\u001b[0;34m,\u001b[0m \u001b[0mstatement\u001b[0m\u001b[0;34m,\u001b[0m \u001b[0mparameters\u001b[0m\u001b[0;34m=\u001b[0m\u001b[0;32mNone\u001b[0m\u001b[0;34m,\u001b[0m \u001b[0mtx\u001b[0m\u001b[0;34m=\u001b[0m\u001b[0;32mNone\u001b[0m\u001b[0;34m,\u001b[0m \u001b[0mgraph\u001b[0m\u001b[0;34m=\u001b[0m\u001b[0;32mNone\u001b[0m\u001b[0;34m,\u001b[0m \u001b[0mkeys\u001b[0m\u001b[0;34m=\u001b[0m\u001b[0;32mNone\u001b[0m\u001b[0;34m,\u001b[0m \u001b[0mentities\u001b[0m\u001b[0;34m=\u001b[0m\u001b[0;32mNone\u001b[0m\u001b[0;34m)\u001b[0m\u001b[0;34m:\u001b[0m\u001b[0;34m\u001b[0m\u001b[0;34m\u001b[0m\u001b[0m\n\u001b[1;32m    291\u001b[0m         \u001b[0;32mif\u001b[0m \u001b[0mtx\u001b[0m \u001b[0;32mis\u001b[0m \u001b[0;32mNone\u001b[0m\u001b[0;34m:\u001b[0m\u001b[0;34m\u001b[0m\u001b[0;34m\u001b[0m\u001b[0m\n\u001b[0;32m--> 292\u001b[0;31m             \u001b[0;32mreturn\u001b[0m \u001b[0mself\u001b[0m\u001b[0;34m.\u001b[0m\u001b[0m_run_1\u001b[0m\u001b[0;34m(\u001b[0m\u001b[0mstatement\u001b[0m\u001b[0;34m,\u001b[0m \u001b[0mparameters\u001b[0m\u001b[0;34m,\u001b[0m \u001b[0mgraph\u001b[0m\u001b[0;34m,\u001b[0m \u001b[0mkeys\u001b[0m\u001b[0;34m,\u001b[0m \u001b[0mentities\u001b[0m\u001b[0;34m)\u001b[0m\u001b[0;34m\u001b[0m\u001b[0;34m\u001b[0m\u001b[0m\n\u001b[0m\u001b[1;32m    293\u001b[0m         \u001b[0;32melse\u001b[0m\u001b[0;34m:\u001b[0m\u001b[0;34m\u001b[0m\u001b[0;34m\u001b[0m\u001b[0m\n\u001b[1;32m    294\u001b[0m             \u001b[0;32mreturn\u001b[0m \u001b[0mself\u001b[0m\u001b[0;34m.\u001b[0m\u001b[0m_run_in_tx\u001b[0m\u001b[0;34m(\u001b[0m\u001b[0mstatement\u001b[0m\u001b[0;34m,\u001b[0m \u001b[0mparameters\u001b[0m\u001b[0;34m,\u001b[0m \u001b[0mtx\u001b[0m\u001b[0;34m,\u001b[0m \u001b[0mgraph\u001b[0m\u001b[0;34m,\u001b[0m \u001b[0mkeys\u001b[0m\u001b[0;34m,\u001b[0m \u001b[0mentities\u001b[0m\u001b[0;34m)\u001b[0m\u001b[0;34m\u001b[0m\u001b[0;34m\u001b[0m\u001b[0m\n",
      "\u001b[0;32m~/anaconda3/lib/python3.7/site-packages/py2neo/internal/connectors.py\u001b[0m in \u001b[0;36m_run_1\u001b[0;34m(self, statement, parameters, graph, keys, entities)\u001b[0m\n\u001b[1;32m    253\u001b[0m                     on_success=result.update_metadata, on_failure=self._fail, on_summary=result.done)\n\u001b[1;32m    254\u001b[0m         \u001b[0mcx\u001b[0m\u001b[0;34m.\u001b[0m\u001b[0msend\u001b[0m\u001b[0;34m(\u001b[0m\u001b[0;34m)\u001b[0m\u001b[0;34m\u001b[0m\u001b[0;34m\u001b[0m\u001b[0m\n\u001b[0;32m--> 255\u001b[0;31m         \u001b[0mcx\u001b[0m\u001b[0;34m.\u001b[0m\u001b[0mfetch\u001b[0m\u001b[0;34m(\u001b[0m\u001b[0;34m)\u001b[0m\u001b[0;34m\u001b[0m\u001b[0;34m\u001b[0m\u001b[0m\n\u001b[0m\u001b[1;32m    256\u001b[0m         \u001b[0;32mreturn\u001b[0m \u001b[0mresult\u001b[0m\u001b[0;34m\u001b[0m\u001b[0;34m\u001b[0m\u001b[0m\n\u001b[1;32m    257\u001b[0m \u001b[0;34m\u001b[0m\u001b[0m\n",
      "\u001b[0;32m~/anaconda3/lib/python3.7/site-packages/neobolt/direct.py\u001b[0m in \u001b[0;36mfetch\u001b[0;34m(self)\u001b[0m\n\u001b[1;32m    417\u001b[0m     \u001b[0;32mdef\u001b[0m \u001b[0mfetch\u001b[0m\u001b[0;34m(\u001b[0m\u001b[0mself\u001b[0m\u001b[0;34m)\u001b[0m\u001b[0;34m:\u001b[0m\u001b[0;34m\u001b[0m\u001b[0;34m\u001b[0m\u001b[0m\n\u001b[1;32m    418\u001b[0m         \u001b[0;32mtry\u001b[0m\u001b[0;34m:\u001b[0m\u001b[0;34m\u001b[0m\u001b[0;34m\u001b[0m\u001b[0m\n\u001b[0;32m--> 419\u001b[0;31m             \u001b[0;32mreturn\u001b[0m \u001b[0mself\u001b[0m\u001b[0;34m.\u001b[0m\u001b[0m_fetch\u001b[0m\u001b[0;34m(\u001b[0m\u001b[0;34m)\u001b[0m\u001b[0;34m\u001b[0m\u001b[0;34m\u001b[0m\u001b[0m\n\u001b[0m\u001b[1;32m    420\u001b[0m         \u001b[0;32mexcept\u001b[0m \u001b[0mself\u001b[0m\u001b[0;34m.\u001b[0m\u001b[0merror_handler\u001b[0m\u001b[0;34m.\u001b[0m\u001b[0mknown_errors\u001b[0m \u001b[0;32mas\u001b[0m \u001b[0merror\u001b[0m\u001b[0;34m:\u001b[0m\u001b[0;34m\u001b[0m\u001b[0;34m\u001b[0m\u001b[0m\n\u001b[1;32m    421\u001b[0m             \u001b[0mself\u001b[0m\u001b[0;34m.\u001b[0m\u001b[0merror_handler\u001b[0m\u001b[0;34m.\u001b[0m\u001b[0mhandle\u001b[0m\u001b[0;34m(\u001b[0m\u001b[0merror\u001b[0m\u001b[0;34m,\u001b[0m \u001b[0mself\u001b[0m\u001b[0;34m.\u001b[0m\u001b[0munresolved_address\u001b[0m\u001b[0;34m)\u001b[0m\u001b[0;34m\u001b[0m\u001b[0;34m\u001b[0m\u001b[0m\n",
      "\u001b[0;32m~/anaconda3/lib/python3.7/site-packages/neobolt/direct.py\u001b[0m in \u001b[0;36m_fetch\u001b[0;34m(self)\u001b[0m\n\u001b[1;32m    453\u001b[0m         \u001b[0;32mif\u001b[0m \u001b[0msummary_signature\u001b[0m \u001b[0;34m==\u001b[0m \u001b[0;34mb\"\\x70\"\u001b[0m\u001b[0;34m:\u001b[0m\u001b[0;34m\u001b[0m\u001b[0;34m\u001b[0m\u001b[0m\n\u001b[1;32m    454\u001b[0m             \u001b[0mlog_debug\u001b[0m\u001b[0;34m(\u001b[0m\u001b[0;34m\"[#%04X]  S: SUCCESS %r\"\u001b[0m\u001b[0;34m,\u001b[0m \u001b[0mself\u001b[0m\u001b[0;34m.\u001b[0m\u001b[0mlocal_port\u001b[0m\u001b[0;34m,\u001b[0m \u001b[0msummary_metadata\u001b[0m\u001b[0;34m)\u001b[0m\u001b[0;34m\u001b[0m\u001b[0;34m\u001b[0m\u001b[0m\n\u001b[0;32m--> 455\u001b[0;31m             \u001b[0mresponse\u001b[0m\u001b[0;34m.\u001b[0m\u001b[0mon_success\u001b[0m\u001b[0;34m(\u001b[0m\u001b[0msummary_metadata\u001b[0m \u001b[0;32mor\u001b[0m \u001b[0;34m{\u001b[0m\u001b[0;34m}\u001b[0m\u001b[0;34m)\u001b[0m\u001b[0;34m\u001b[0m\u001b[0;34m\u001b[0m\u001b[0m\n\u001b[0m\u001b[1;32m    456\u001b[0m         \u001b[0;32melif\u001b[0m \u001b[0msummary_signature\u001b[0m \u001b[0;34m==\u001b[0m \u001b[0;34mb\"\\x7E\"\u001b[0m\u001b[0;34m:\u001b[0m\u001b[0;34m\u001b[0m\u001b[0;34m\u001b[0m\u001b[0m\n\u001b[1;32m    457\u001b[0m             \u001b[0mlog_debug\u001b[0m\u001b[0;34m(\u001b[0m\u001b[0;34m\"[#%04X]  S: IGNORED\"\u001b[0m\u001b[0;34m,\u001b[0m \u001b[0mself\u001b[0m\u001b[0;34m.\u001b[0m\u001b[0mlocal_port\u001b[0m\u001b[0;34m)\u001b[0m\u001b[0;34m\u001b[0m\u001b[0;34m\u001b[0m\u001b[0m\n",
      "\u001b[0;32m~/anaconda3/lib/python3.7/site-packages/neobolt/direct.py\u001b[0m in \u001b[0;36mon_success\u001b[0;34m(self, metadata)\u001b[0m\n\u001b[1;32m    738\u001b[0m         \u001b[0mhandler\u001b[0m \u001b[0;34m=\u001b[0m \u001b[0mself\u001b[0m\u001b[0;34m.\u001b[0m\u001b[0mhandlers\u001b[0m\u001b[0;34m.\u001b[0m\u001b[0mget\u001b[0m\u001b[0;34m(\u001b[0m\u001b[0;34m\"on_success\"\u001b[0m\u001b[0;34m)\u001b[0m\u001b[0;34m\u001b[0m\u001b[0;34m\u001b[0m\u001b[0m\n\u001b[1;32m    739\u001b[0m         \u001b[0;32mif\u001b[0m \u001b[0mcallable\u001b[0m\u001b[0;34m(\u001b[0m\u001b[0mhandler\u001b[0m\u001b[0;34m)\u001b[0m\u001b[0;34m:\u001b[0m\u001b[0;34m\u001b[0m\u001b[0;34m\u001b[0m\u001b[0m\n\u001b[0;32m--> 740\u001b[0;31m             \u001b[0mhandler\u001b[0m\u001b[0;34m(\u001b[0m\u001b[0mmetadata\u001b[0m\u001b[0;34m)\u001b[0m\u001b[0;34m\u001b[0m\u001b[0;34m\u001b[0m\u001b[0m\n\u001b[0m\u001b[1;32m    741\u001b[0m         \u001b[0mhandler\u001b[0m \u001b[0;34m=\u001b[0m \u001b[0mself\u001b[0m\u001b[0;34m.\u001b[0m\u001b[0mhandlers\u001b[0m\u001b[0;34m.\u001b[0m\u001b[0mget\u001b[0m\u001b[0;34m(\u001b[0m\u001b[0;34m\"on_summary\"\u001b[0m\u001b[0;34m)\u001b[0m\u001b[0;34m\u001b[0m\u001b[0;34m\u001b[0m\u001b[0m\n\u001b[1;32m    742\u001b[0m         \u001b[0;32mif\u001b[0m \u001b[0mcallable\u001b[0m\u001b[0;34m(\u001b[0m\u001b[0mhandler\u001b[0m\u001b[0;34m)\u001b[0m\u001b[0;34m:\u001b[0m\u001b[0;34m\u001b[0m\u001b[0;34m\u001b[0m\u001b[0m\n",
      "\u001b[0;32m~/anaconda3/lib/python3.7/site-packages/py2neo/internal/connectors.py\u001b[0m in \u001b[0;36mupdate_metadata_with_keys\u001b[0;34m(metadata)\u001b[0m\n\u001b[1;32m    247\u001b[0m         \u001b[0;32mdef\u001b[0m \u001b[0mupdate_metadata_with_keys\u001b[0m\u001b[0;34m(\u001b[0m\u001b[0mmetadata\u001b[0m\u001b[0;34m)\u001b[0m\u001b[0;34m:\u001b[0m\u001b[0;34m\u001b[0m\u001b[0;34m\u001b[0m\u001b[0m\n\u001b[1;32m    248\u001b[0m             \u001b[0mresult\u001b[0m\u001b[0;34m.\u001b[0m\u001b[0mupdate_metadata\u001b[0m\u001b[0;34m(\u001b[0m\u001b[0mmetadata\u001b[0m\u001b[0;34m)\u001b[0m\u001b[0;34m\u001b[0m\u001b[0;34m\u001b[0m\u001b[0m\n\u001b[0;32m--> 249\u001b[0;31m             \u001b[0mhydrator\u001b[0m\u001b[0;34m.\u001b[0m\u001b[0mkeys\u001b[0m \u001b[0;34m=\u001b[0m \u001b[0mresult\u001b[0m\u001b[0;34m.\u001b[0m\u001b[0mkeys\u001b[0m\u001b[0;34m(\u001b[0m\u001b[0;34m)\u001b[0m\u001b[0;34m\u001b[0m\u001b[0;34m\u001b[0m\u001b[0m\n\u001b[0m\u001b[1;32m    250\u001b[0m \u001b[0;34m\u001b[0m\u001b[0m\n\u001b[1;32m    251\u001b[0m         \u001b[0mcx\u001b[0m\u001b[0;34m.\u001b[0m\u001b[0mrun\u001b[0m\u001b[0;34m(\u001b[0m\u001b[0mstatement\u001b[0m\u001b[0;34m,\u001b[0m \u001b[0mdehydrated_parameters\u001b[0m \u001b[0;32mor\u001b[0m \u001b[0;34m{\u001b[0m\u001b[0;34m}\u001b[0m\u001b[0;34m,\u001b[0m \u001b[0mon_success\u001b[0m\u001b[0;34m=\u001b[0m\u001b[0mupdate_metadata_with_keys\u001b[0m\u001b[0;34m,\u001b[0m \u001b[0mon_failure\u001b[0m\u001b[0;34m=\u001b[0m\u001b[0mself\u001b[0m\u001b[0;34m.\u001b[0m\u001b[0m_fail\u001b[0m\u001b[0;34m)\u001b[0m\u001b[0;34m\u001b[0m\u001b[0;34m\u001b[0m\u001b[0m\n",
      "\u001b[0;32m~/anaconda3/lib/python3.7/site-packages/py2neo/internal/hydration/__init__.py\u001b[0m in \u001b[0;36mkeys\u001b[0;34m(self)\u001b[0m\n\u001b[1;32m     75\u001b[0m     \u001b[0;32mdef\u001b[0m \u001b[0mkeys\u001b[0m\u001b[0;34m(\u001b[0m\u001b[0mself\u001b[0m\u001b[0;34m)\u001b[0m\u001b[0;34m:\u001b[0m\u001b[0;34m\u001b[0m\u001b[0;34m\u001b[0m\u001b[0m\n\u001b[1;32m     76\u001b[0m         \u001b[0;32mwhile\u001b[0m \u001b[0;32mnot\u001b[0m \u001b[0mself\u001b[0m\u001b[0;34m.\u001b[0m\u001b[0m_keys\u001b[0m \u001b[0;32mand\u001b[0m \u001b[0;32mnot\u001b[0m \u001b[0mself\u001b[0m\u001b[0;34m.\u001b[0m\u001b[0m_done\u001b[0m \u001b[0;32mand\u001b[0m \u001b[0mcallable\u001b[0m\u001b[0;34m(\u001b[0m\u001b[0mself\u001b[0m\u001b[0;34m.\u001b[0m\u001b[0m_on_more\u001b[0m\u001b[0;34m)\u001b[0m\u001b[0;34m:\u001b[0m\u001b[0;34m\u001b[0m\u001b[0;34m\u001b[0m\u001b[0m\n\u001b[0;32m---> 77\u001b[0;31m             \u001b[0mself\u001b[0m\u001b[0;34m.\u001b[0m\u001b[0m_on_more\u001b[0m\u001b[0;34m(\u001b[0m\u001b[0;34m)\u001b[0m\u001b[0;34m\u001b[0m\u001b[0;34m\u001b[0m\u001b[0m\n\u001b[0m\u001b[1;32m     78\u001b[0m         \u001b[0;32mreturn\u001b[0m \u001b[0mself\u001b[0m\u001b[0;34m.\u001b[0m\u001b[0m_keys\u001b[0m\u001b[0;34m\u001b[0m\u001b[0;34m\u001b[0m\u001b[0m\n\u001b[1;32m     79\u001b[0m \u001b[0;34m\u001b[0m\u001b[0m\n",
      "\u001b[0;32m~/anaconda3/lib/python3.7/site-packages/neobolt/direct.py\u001b[0m in \u001b[0;36mfetch\u001b[0;34m(self)\u001b[0m\n\u001b[1;32m    417\u001b[0m     \u001b[0;32mdef\u001b[0m \u001b[0mfetch\u001b[0m\u001b[0;34m(\u001b[0m\u001b[0mself\u001b[0m\u001b[0;34m)\u001b[0m\u001b[0;34m:\u001b[0m\u001b[0;34m\u001b[0m\u001b[0;34m\u001b[0m\u001b[0m\n\u001b[1;32m    418\u001b[0m         \u001b[0;32mtry\u001b[0m\u001b[0;34m:\u001b[0m\u001b[0;34m\u001b[0m\u001b[0;34m\u001b[0m\u001b[0m\n\u001b[0;32m--> 419\u001b[0;31m             \u001b[0;32mreturn\u001b[0m \u001b[0mself\u001b[0m\u001b[0;34m.\u001b[0m\u001b[0m_fetch\u001b[0m\u001b[0;34m(\u001b[0m\u001b[0;34m)\u001b[0m\u001b[0;34m\u001b[0m\u001b[0;34m\u001b[0m\u001b[0m\n\u001b[0m\u001b[1;32m    420\u001b[0m         \u001b[0;32mexcept\u001b[0m \u001b[0mself\u001b[0m\u001b[0;34m.\u001b[0m\u001b[0merror_handler\u001b[0m\u001b[0;34m.\u001b[0m\u001b[0mknown_errors\u001b[0m \u001b[0;32mas\u001b[0m \u001b[0merror\u001b[0m\u001b[0;34m:\u001b[0m\u001b[0;34m\u001b[0m\u001b[0;34m\u001b[0m\u001b[0m\n\u001b[1;32m    421\u001b[0m             \u001b[0mself\u001b[0m\u001b[0;34m.\u001b[0m\u001b[0merror_handler\u001b[0m\u001b[0;34m.\u001b[0m\u001b[0mhandle\u001b[0m\u001b[0;34m(\u001b[0m\u001b[0merror\u001b[0m\u001b[0;34m,\u001b[0m \u001b[0mself\u001b[0m\u001b[0;34m.\u001b[0m\u001b[0munresolved_address\u001b[0m\u001b[0;34m)\u001b[0m\u001b[0;34m\u001b[0m\u001b[0;34m\u001b[0m\u001b[0m\n",
      "\u001b[0;32m~/anaconda3/lib/python3.7/site-packages/neobolt/direct.py\u001b[0m in \u001b[0;36m_fetch\u001b[0;34m(self)\u001b[0m\n\u001b[1;32m    459\u001b[0m         \u001b[0;32melif\u001b[0m \u001b[0msummary_signature\u001b[0m \u001b[0;34m==\u001b[0m \u001b[0;34mb\"\\x7F\"\u001b[0m\u001b[0;34m:\u001b[0m\u001b[0;34m\u001b[0m\u001b[0;34m\u001b[0m\u001b[0m\n\u001b[1;32m    460\u001b[0m             \u001b[0mlog_debug\u001b[0m\u001b[0;34m(\u001b[0m\u001b[0;34m\"[#%04X]  S: FAILURE %r\"\u001b[0m\u001b[0;34m,\u001b[0m \u001b[0mself\u001b[0m\u001b[0;34m.\u001b[0m\u001b[0mlocal_port\u001b[0m\u001b[0;34m,\u001b[0m \u001b[0msummary_metadata\u001b[0m\u001b[0;34m)\u001b[0m\u001b[0;34m\u001b[0m\u001b[0;34m\u001b[0m\u001b[0m\n\u001b[0;32m--> 461\u001b[0;31m             \u001b[0mresponse\u001b[0m\u001b[0;34m.\u001b[0m\u001b[0mon_failure\u001b[0m\u001b[0;34m(\u001b[0m\u001b[0msummary_metadata\u001b[0m \u001b[0;32mor\u001b[0m \u001b[0;34m{\u001b[0m\u001b[0;34m}\u001b[0m\u001b[0;34m)\u001b[0m\u001b[0;34m\u001b[0m\u001b[0;34m\u001b[0m\u001b[0m\n\u001b[0m\u001b[1;32m    462\u001b[0m         \u001b[0;32melse\u001b[0m\u001b[0;34m:\u001b[0m\u001b[0;34m\u001b[0m\u001b[0;34m\u001b[0m\u001b[0m\n\u001b[1;32m    463\u001b[0m             \u001b[0;32mraise\u001b[0m \u001b[0mProtocolError\u001b[0m\u001b[0;34m(\u001b[0m\u001b[0;34m\"Unexpected response message with signature %02X\"\u001b[0m \u001b[0;34m%\u001b[0m \u001b[0msummary_signature\u001b[0m\u001b[0;34m)\u001b[0m\u001b[0;34m\u001b[0m\u001b[0;34m\u001b[0m\u001b[0m\n",
      "\u001b[0;32m~/anaconda3/lib/python3.7/site-packages/neobolt/direct.py\u001b[0m in \u001b[0;36mon_failure\u001b[0;34m(self, metadata)\u001b[0m\n\u001b[1;32m    749\u001b[0m         \u001b[0mhandler\u001b[0m \u001b[0;34m=\u001b[0m \u001b[0mself\u001b[0m\u001b[0;34m.\u001b[0m\u001b[0mhandlers\u001b[0m\u001b[0;34m.\u001b[0m\u001b[0mget\u001b[0m\u001b[0;34m(\u001b[0m\u001b[0;34m\"on_failure\"\u001b[0m\u001b[0;34m)\u001b[0m\u001b[0;34m\u001b[0m\u001b[0;34m\u001b[0m\u001b[0m\n\u001b[1;32m    750\u001b[0m         \u001b[0;32mif\u001b[0m \u001b[0mcallable\u001b[0m\u001b[0;34m(\u001b[0m\u001b[0mhandler\u001b[0m\u001b[0;34m)\u001b[0m\u001b[0;34m:\u001b[0m\u001b[0;34m\u001b[0m\u001b[0;34m\u001b[0m\u001b[0m\n\u001b[0;32m--> 751\u001b[0;31m             \u001b[0mhandler\u001b[0m\u001b[0;34m(\u001b[0m\u001b[0mmetadata\u001b[0m\u001b[0;34m)\u001b[0m\u001b[0;34m\u001b[0m\u001b[0;34m\u001b[0m\u001b[0m\n\u001b[0m\u001b[1;32m    752\u001b[0m         \u001b[0mhandler\u001b[0m \u001b[0;34m=\u001b[0m \u001b[0mself\u001b[0m\u001b[0;34m.\u001b[0m\u001b[0mhandlers\u001b[0m\u001b[0;34m.\u001b[0m\u001b[0mget\u001b[0m\u001b[0;34m(\u001b[0m\u001b[0;34m\"on_summary\"\u001b[0m\u001b[0;34m)\u001b[0m\u001b[0;34m\u001b[0m\u001b[0;34m\u001b[0m\u001b[0m\n\u001b[1;32m    753\u001b[0m         \u001b[0;32mif\u001b[0m \u001b[0mcallable\u001b[0m\u001b[0;34m(\u001b[0m\u001b[0mhandler\u001b[0m\u001b[0;34m)\u001b[0m\u001b[0;34m:\u001b[0m\u001b[0;34m\u001b[0m\u001b[0;34m\u001b[0m\u001b[0m\n",
      "\u001b[0;32m~/anaconda3/lib/python3.7/site-packages/py2neo/internal/connectors.py\u001b[0m in \u001b[0;36m_fail\u001b[0;34m(cls, metadata)\u001b[0m\n\u001b[1;32m    286\u001b[0m     \u001b[0;32mdef\u001b[0m \u001b[0m_fail\u001b[0m\u001b[0;34m(\u001b[0m\u001b[0mcls\u001b[0m\u001b[0;34m,\u001b[0m \u001b[0mmetadata\u001b[0m\u001b[0;34m)\u001b[0m\u001b[0;34m:\u001b[0m\u001b[0;34m\u001b[0m\u001b[0;34m\u001b[0m\u001b[0m\n\u001b[1;32m    287\u001b[0m         \u001b[0;32mfrom\u001b[0m \u001b[0mpy2neo\u001b[0m\u001b[0;34m.\u001b[0m\u001b[0mdatabase\u001b[0m \u001b[0;32mimport\u001b[0m \u001b[0mGraphError\u001b[0m\u001b[0;34m\u001b[0m\u001b[0;34m\u001b[0m\u001b[0m\n\u001b[0;32m--> 288\u001b[0;31m         \u001b[0;32mraise\u001b[0m \u001b[0mGraphError\u001b[0m\u001b[0;34m.\u001b[0m\u001b[0mhydrate\u001b[0m\u001b[0;34m(\u001b[0m\u001b[0mmetadata\u001b[0m\u001b[0;34m)\u001b[0m\u001b[0;34m\u001b[0m\u001b[0;34m\u001b[0m\u001b[0m\n\u001b[0m\u001b[1;32m    289\u001b[0m \u001b[0;34m\u001b[0m\u001b[0m\n\u001b[1;32m    290\u001b[0m     \u001b[0;32mdef\u001b[0m \u001b[0mrun\u001b[0m\u001b[0;34m(\u001b[0m\u001b[0mself\u001b[0m\u001b[0;34m,\u001b[0m \u001b[0mstatement\u001b[0m\u001b[0;34m,\u001b[0m \u001b[0mparameters\u001b[0m\u001b[0;34m=\u001b[0m\u001b[0;32mNone\u001b[0m\u001b[0;34m,\u001b[0m \u001b[0mtx\u001b[0m\u001b[0;34m=\u001b[0m\u001b[0;32mNone\u001b[0m\u001b[0;34m,\u001b[0m \u001b[0mgraph\u001b[0m\u001b[0;34m=\u001b[0m\u001b[0;32mNone\u001b[0m\u001b[0;34m,\u001b[0m \u001b[0mkeys\u001b[0m\u001b[0;34m=\u001b[0m\u001b[0;32mNone\u001b[0m\u001b[0;34m,\u001b[0m \u001b[0mentities\u001b[0m\u001b[0;34m=\u001b[0m\u001b[0;32mNone\u001b[0m\u001b[0;34m)\u001b[0m\u001b[0;34m:\u001b[0m\u001b[0;34m\u001b[0m\u001b[0;34m\u001b[0m\u001b[0m\n",
      "\u001b[0;31mClientError\u001b[0m: ConstraintValidationFailed: Cannot delete node<2>, because it still has relationships. To delete this node, you must first delete its relationships."
     ]
    }
   ],
   "source": [
    "query = \"MATCH (n:Simulation) WHERE n.name='Mixture of Dendrimers and Linear Polymer Chains' delete n\"\n",
    "graph.run(query)"
   ]
  },
  {
   "cell_type": "code",
   "execution_count": null,
   "metadata": {},
   "outputs": [],
   "source": []
  }
 ],
 "metadata": {
  "kernelspec": {
   "display_name": "Python 3",
   "language": "python",
   "name": "python3"
  },
  "language_info": {
   "codemirror_mode": {
    "name": "ipython",
    "version": 3
   },
   "file_extension": ".py",
   "mimetype": "text/x-python",
   "name": "python",
   "nbconvert_exporter": "python",
   "pygments_lexer": "ipython3",
   "version": "3.7.6"
  }
 },
 "nbformat": 4,
 "nbformat_minor": 2
}
