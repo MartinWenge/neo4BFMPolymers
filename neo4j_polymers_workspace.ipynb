{
 "cells": [
  {
   "cell_type": "code",
   "execution_count": 1,
   "metadata": {},
   "outputs": [],
   "source": [
    "from py2neo import Graph\n",
    "import pandas as pd"
   ]
  },
  {
   "cell_type": "code",
   "execution_count": 2,
   "metadata": {},
   "outputs": [],
   "source": [
    "# connect to the graph -> it should be running already\n",
    "graph = Graph(scheme=\"bolt\", host=\"localhost\", port=7687, auth=('neo4j', '12345'))\n",
    "\n",
    "# connect to test database, only accessible inside ipf network\n",
    "# pw = ''\n",
    "# graph = Graph(\"bolt://neo4j.loc.ipfdd.de/newsocket\",auth=('neo4j',pw))\n"
   ]
  },
  {
   "cell_type": "code",
   "execution_count": 3,
   "metadata": {},
   "outputs": [],
   "source": [
    "import neo2BFMPolymer as neo2BFM"
   ]
  },
  {
   "cell_type": "code",
   "execution_count": 4,
   "metadata": {
    "scrolled": false
   },
   "outputs": [
    {
     "name": "stdout",
     "output_type": "stream",
     "text": [
      "WARNING: replaced backslashes in filepath to slashes: DESKTOP-7NTPDAA: C:/Users/wenge/Documents/Doktorarbeit/neo4j/neo4BFMPolymers/bfm_files/codmuc_micelle_g3_s4_m27_l4_e0.8_b128_1425000000_lastconfig.bfm\n",
      "reached mcs command, stop reading. last mcs=  1450000000\n",
      "WARNING: replaced backslashes in filepath to slashes: DESKTOP-7NTPDAA: C:/Users/wenge/Documents/Doktorarbeit/neo4j/neo4BFMPolymers/bfm_files/codmuc_micelle_g3_s4_m27_l4_e0.8_b128_rg.dat\n",
      "path DESKTOP-7NTPDAA: C:/Users/wenge/Documents/Doktorarbeit/neo4j/neo4BFMPolymers/bfm_files/codmuc_micelle_g3_s4_m27_l4_e0.8_b128_rg.dat is added to codmuc_micelle_g3_s4_m27_l4_e0.8_b128 in property named path_1\n",
      "WARNING: LeMonADEFeature with name FeatureMoleculesIO was already connected to SimulationRun with name codmuc_micelle_g3_s4_m27_l4_e0.8_b128\n",
      "WARNING: LeMonADEFeature with name FeatureBox was already connected to SimulationRun with name codmuc_micelle_g3_s4_m27_l4_e0.8_b128\n",
      "WARNING: LeMonADEFeature with name FeatureBondset was already connected to SimulationRun with name codmuc_micelle_g3_s4_m27_l4_e0.8_b128\n",
      "WARNING: LeMonADEFeature with name FeatureAttributes was already connected to SimulationRun with name codmuc_micelle_g3_s4_m27_l4_e0.8_b128\n",
      "WARNING: replaced backslashes in filepath to slashes: DESKTOP-7NTPDAA: C:/Users/wenge/Documents/Doktorarbeit/neo4j/neo4BFMPolymers/bfm_files/codmuc_micelle_g4_s4_m12_l4_e0.8_b128_2225000000_lastconfig.bfm\n",
      "reached mcs command, stop reading. last mcs=  2250000000\n",
      "LeMonADEFeature with name FeatureBox already connected to Parameter with name BoxSize and value [128, 128, 128]\n",
      "LeMonADEFeature with name FeatureBox already connected to Parameter with name Periodicity and value [1, 1, 1]\n",
      "LeMonADEFeature with name FeatureNNInteractionSc already connected to Parameter with name NNInteraction and value 0.800\n",
      "WARNING: replaced backslashes in filepath to slashes: DESKTOP-7NTPDAA: C:/Users/wenge/Documents/Doktorarbeit/neo4j/neo4BFMPolymers/bfm_files/codmuc_micelle_g4_s4_m12_l4_e0.8_b128_rg.dat\n",
      "path DESKTOP-7NTPDAA: C:/Users/wenge/Documents/Doktorarbeit/neo4j/neo4BFMPolymers/bfm_files/codmuc_micelle_g4_s4_m12_l4_e0.8_b128_rg.dat is added to codmuc_micelle_g4_s4_m12_l4_e0.8_b128 in property named path_1\n",
      "WARNING: LeMonADEFeature with name FeatureMoleculesIO was already connected to SimulationRun with name codmuc_micelle_g4_s4_m12_l4_e0.8_b128\n",
      "WARNING: LeMonADEFeature with name FeatureBox was already connected to SimulationRun with name codmuc_micelle_g4_s4_m12_l4_e0.8_b128\n",
      "WARNING: LeMonADEFeature with name FeatureBondset was already connected to SimulationRun with name codmuc_micelle_g4_s4_m12_l4_e0.8_b128\n",
      "WARNING: LeMonADEFeature with name FeatureAttributes was already connected to SimulationRun with name codmuc_micelle_g4_s4_m12_l4_e0.8_b128\n"
     ]
    },
    {
     "data": {
      "text/plain": [
       "True"
      ]
     },
     "execution_count": 4,
     "metadata": {},
     "output_type": "execute_result"
    }
   ],
   "source": [
    "# simulation project function\n",
    "def insertCodmucSimRunInGraph(myNeo4Polymer, simProject, simRunName, filepath, generation, spacerLength, graftedChainLength):\n",
    "    '''insert all information of a codendrimer simulation Run (Codmuc) to the database'''\n",
    "    myNeo4Polymer.addSimulationRunToSimulationProject(currentSimRun,currentProject)\n",
    "    myNeo4Polymer.addBFMFileToDatabase(currentSimRun,filepath)\n",
    "    myNeo4Polymer.addDendrimerGenerationToSimulationRun(currentSimRun,generation)\n",
    "    myNeo4Polymer.addDendrimerSpacerLengthToSimulationRun(currentSimRun,spacer)\n",
    "    myNeo4Polymer.addGraftedChainLengthToSimulationRun(currentSimRun,graftedChainLength)\n",
    "\n",
    "# this ALWAYS deletes the full graph! Use this function with care\n",
    "graph.delete_all()\n",
    "\n",
    "# setup instacne of neo4j - BFM file interface\n",
    "myNeoPolymers = neo2BFM.neo2BFMPolymer(graph)\n",
    "\n",
    "### -- preparation of project -- ###\n",
    "# add simulation project:\n",
    "currentProject = \"Linear-Dendritic Copolymer Solutions\"\n",
    "myNeoPolymers.addNewSimulationProject(currentProject)\n",
    "# add grafted chain as polymer:\n",
    "myNeoPolymers.addNewPolymer(\"Grafted Chain\")\n",
    "# add dendrimer as polymer:\n",
    "myNeoPolymers.addNewPolymer(\"Dendrimer\")\n",
    "# connect Dendrimers:\n",
    "myNeoPolymers.connectSimulationToPolymer(\"Dendrimer\", currentProject)\n",
    "# connect Grafted Chain:\n",
    "myNeoPolymers.connectSimulationToPolymer(\"Grafted Chain\", currentProject)\n",
    "\n",
    "\n",
    "### -- read in all information of simRun 1 -- ###\n",
    "generation = 3\n",
    "spacer = 4\n",
    "numMolecules = 27\n",
    "graftedChainLength = 4\n",
    "currentSimRun = \"codmuc_micelle_g{}_s{}_m{}_l{}_e0.8_b128\".format(generation,spacer,numMolecules,graftedChainLength)\n",
    "filepath = \"bfm_files/{}_1425000000_lastconfig.bfm\".format(currentSimRun)\n",
    "# use simulation project function:\n",
    "insertCodmucSimRunInGraph(myNeoPolymers, currentProject, currentSimRun, filepath, generation, spacer, graftedChainLength)\n",
    "# add radius of gyration results\n",
    "filepath = \"bfm_files/{}_rg.dat\".format(currentSimRun)\n",
    "myNeoPolymers.addCODMUCRgTensorFileToDatabase(currentSimRun,filepath)\n",
    "\n",
    "### -- read in all information of simRun 2 -- ###\n",
    "generation = 4\n",
    "spacer = 4\n",
    "numMolecules = 12\n",
    "graftedChainLength = 4\n",
    "currentSimRun = \"codmuc_micelle_g{}_s{}_m{}_l{}_e0.8_b128\".format(generation,spacer,numMolecules,graftedChainLength)\n",
    "filepath = \"bfm_files/{}_2225000000_lastconfig.bfm\".format(currentSimRun)\n",
    "# use simulation project function:\n",
    "insertCodmucSimRunInGraph(myNeoPolymers, currentProject, currentSimRun, filepath, generation, spacer, graftedChainLength)\n",
    "# add radius of gyration results\n",
    "filepath = \"bfm_files/{}_rg.dat\".format(currentSimRun)\n",
    "myNeoPolymers.addCODMUCRgTensorFileToDatabase(currentSimRun,filepath)\n"
   ]
  },
  {
   "cell_type": "code",
   "execution_count": 4,
   "metadata": {},
   "outputs": [
    {
     "name": "stdout",
     "output_type": "stream",
     "text": [
      "WARNING: replaced backslashes in filepath to slashes: DESKTOP-7NTPDAA: C:/Users/wenge/Documents/Doktorarbeit/neo4j/neo4BFMPolymers/bfm_files/RingMelt_N128_Phi05_Box128_EA5_EB17_MCS0_GPU.bfm\n",
      "reached mcs command, stop reading. last mcs=  0\n",
      "> c:\\users\\wenge\\documents\\doktorarbeit\\neo4j\\neo4bfmpolymers\\neo2bfmpolymer.py(906)addBFMFileToDatabase()\n",
      "-> if (featureName in featureList):\n",
      "(Pdb) n\n",
      "> c:\\users\\wenge\\documents\\doktorarbeit\\neo4j\\neo4bfmpolymers\\neo2bfmpolymer.py(907)addBFMFileToDatabase()\n",
      "-> numOfRingsKey = \"number_of_rings\"\n",
      "(Pdb) n\n",
      "> c:\\users\\wenge\\documents\\doktorarbeit\\neo4j\\neo4bfmpolymers\\neo2bfmpolymer.py(908)addBFMFileToDatabase()\n",
      "-> numOfRings = self._findElementInKeyValueDataList(numOfRingsKey, dataArray)\n",
      "(Pdb) numOfRings\n",
      "*** NameError: name 'numOfRings' is not defined\n",
      "(Pdb) n\n",
      "> c:\\users\\wenge\\documents\\doktorarbeit\\neo4j\\neo4bfmpolymers\\neo2bfmpolymer.py(909)addBFMFileToDatabase()\n",
      "-> if (numOfRings is not None):\n",
      "(Pdb) numOfRings\n",
      "['1024']\n",
      "(Pdb) n\n",
      "> c:\\users\\wenge\\documents\\doktorarbeit\\neo4j\\neo4bfmpolymers\\neo2bfmpolymer.py(910)addBFMFileToDatabase()\n",
      "-> parameterName = \"NumberOfRings\"\n",
      "(Pdb) n\n",
      "> c:\\users\\wenge\\documents\\doktorarbeit\\neo4j\\neo4bfmpolymers\\neo2bfmpolymer.py(911)addBFMFileToDatabase()\n",
      "-> parameterValue = numOfRings[0]\n",
      "(Pdb) n\n",
      "> c:\\users\\wenge\\documents\\doktorarbeit\\neo4j\\neo4bfmpolymers\\neo2bfmpolymer.py(912)addBFMFileToDatabase()\n",
      "-> self.addNumberOfRingsToSimulationRun(simulationRunName,parameterValue)\n",
      "(Pdb) parameterValue\n",
      "'1024'\n",
      "(Pdb) c\n"
     ]
    },
    {
     "data": {
      "text/plain": [
       "True"
      ]
     },
     "execution_count": 4,
     "metadata": {},
     "output_type": "execute_result"
    }
   ],
   "source": [
    "# try ring opening polymerisation bfm files\n",
    "\n",
    "\n",
    "# this ALWAYS deletes the full graph! Use this function with care\n",
    "graph.delete_all()\n",
    "\n",
    "# setup instance of neo4j - BFM file interface\n",
    "myTestNeoPolymers = neo2BFM.neo2BFMPolymer(graph)\n",
    "\n",
    "### -- preparation of project -- ###\n",
    "# add simulation project:\n",
    "currentProject = \"Ring-Opening Polymerisation\"\n",
    "myTestNeoPolymers.addNewSimulationProject(currentProject)\n",
    "# add ring polymer as polymer:\n",
    "myTestNeoPolymers.addNewPolymer(\"Ring Polymer\")\n",
    "# connect Ring Polymer:\n",
    "myTestNeoPolymers.connectSimulationToPolymer(\"Ring Polymer\", currentProject)\n",
    "\n",
    "### -- read in all information of simRun 1 -- ###\n",
    "#RingMelt_N128_Phi05_Box128_EA5_EB17_MCS0_GPU\n",
    "ring_size = 128\n",
    "volume_fraction = \"05\"\n",
    "activation_energy = 5\n",
    "breaking_energy = 17\n",
    "\n",
    "currentSimRun = \"RingMelt_N{}_Phi{}_Box128_EA{}_EB{}_MCS0_GPU\".format(ring_size,volume_fraction,activation_energy,breaking_energy)\n",
    "filepath = \"bfm_files/{}.bfm\".format(currentSimRun)\n",
    "# add simulation run node\n",
    "myTestNeoPolymers.addSimulationRunToSimulationProject(currentSimRun,currentProject)\n",
    "# read in bfm file\n",
    "myTestNeoPolymers.addBFMFileToDatabase(currentSimRun,filepath)"
   ]
  },
  {
   "cell_type": "code",
   "execution_count": null,
   "metadata": {},
   "outputs": [],
   "source": [
    "# test some functions\n",
    "\n",
    "# this ALWAYS deletes the full graph! Use this function with care\n",
    "graph.delete_all()\n",
    "\n",
    "myNeoPolymers = neo2BFMPolymer(graph)\n",
    "print(\"add linear chain as polymer: \", myNeoPolymers.addNewPolymer(\"Linear Chain\"))\n",
    "print(\"add dendrimers as polymer: \", myNeoPolymers.addNewPolymer(\"Dendrimer\"))\n",
    "print(\"add star polymer as polymer: \", myNeoPolymers.addNewPolymer(\"Star Polymer\"))\n",
    "print(\"add comb polymer as polymer: \", myNeoPolymers.addNewPolymer(\"Comb Polymer\"))\n",
    "\n",
    "print(\"add Linear Polymer Melt as SimulationProject: \", myNeoPolymers.addNewSimulationProject(\"Linear Polymer Melt\"))\n",
    "print(\"add Single Linear Chain as SimulationProject: \", myNeoPolymers.addNewSimulationProject(\"Single Linear Chain\"))\n",
    "print(\"add Single Dendrimer as SimulationProject: \", myNeoPolymers.addNewSimulationProject(\"Single Dendrimer\"))\n",
    "print(\"add Mixture Dendrimer and Linear Chains as Simulation: \", myNeoPolymers.addNewSimulationProject(\"Mixture Dendrimer and Linear Chains\"))\n",
    "\n",
    "print(\"connect polymer and Melt\", myNeoPolymers.connectSimulationToPolymer(\"Linear Chain\", \"Linear Polymer Melt\"))\n",
    "print(\"connect polymer and single chain\", myNeoPolymers.connectSimulationToPolymer(\"Linear Chain\", \"Single Linear Chain\"))\n",
    "print(\"connect dendrimers\", myNeoPolymers.connectSimulationToPolymer(\"Dendrimer\", \"Single Dendrimer\"))\n",
    "print(\"connect dendrimers\", myNeoPolymers.connectSimulationToPolymer(\"Dendrimer\", \"Mixture Dendrimer and Linear Chains\"))\n",
    "print(\"connect dendrimers\", myNeoPolymers.connectSimulationToPolymer(\"Linear Chain\", \"Mixture Dendrimer and Linear Chains\"),\"\\n\")\n",
    "\n",
    "print(\"add SimulationRun single dendrimers run 1\", myNeoPolymers.addSimulationRunToSimulationProject(\"Single Dendrimers Solvent Quality\",\"Single Dendrimer\"))\n",
    "print(\"connect BoxSize\", myNeoPolymers.addBoxSizeToSimulationRun(\"Single Dendrimers Solvent Quality\", 64, 64, 64))\n",
    "print(\"connect Periodicity\", myNeoPolymers.addPeriodicityToSimulationRun(\"Single Dendrimers Solvent Quality\", True, True, True))\n",
    "print(\"connect DendrimerGeneration\", myNeoPolymers.addDendrimerGenerationToSimulationRun(\"Single Dendrimers Solvent Quality\", 5))\n",
    "print(\"connect DendrimerSpacerLength\", myNeoPolymers.addDendrimerSpacerLengthToSimulationRun(\"Single Dendrimers Solvent Quality\", 2))\n",
    "print(\"connect NNInteraction\", myNeoPolymers.addNNInteractionToSimulationRun(\"Single Dendrimers Solvent Quality\", 0.8),\"\\n\")\n",
    "\n",
    "print(\"add SimulationRun single chains run 1\", myNeoPolymers.addSimulationRunToSimulationProject(\"Single Linear Chain At Wall\",\"Single Linear Chain\"))\n",
    "print(\"connect BoxSize\", myNeoPolymers.addBoxSizeToSimulationRun(\"Single Linear Chain At Wall\", 64, 64, 64))\n",
    "print(\"connect Periodicity\", myNeoPolymers.addPeriodicityToSimulationRun(\"Single Linear Chain At Wall\", True, True, False))\n",
    "print(\"connect ChainLength\", myNeoPolymers.addLinearChainLengthToSimulationRun(\"Single Linear Chain At Wall\", 128))\n",
    "print(\"add Result node Rg\",myNeoPolymers.addResultRadiusOfGyration(\"Single Linear Chain At Wall\",46.8),\"\\n\")"
   ]
  },
  {
   "cell_type": "code",
   "execution_count": null,
   "metadata": {},
   "outputs": [],
   "source": []
  },
  {
   "cell_type": "code",
   "execution_count": null,
   "metadata": {},
   "outputs": [],
   "source": []
  },
  {
   "cell_type": "code",
   "execution_count": null,
   "metadata": {},
   "outputs": [],
   "source": []
  }
 ],
 "metadata": {
  "kernelspec": {
   "display_name": "Python 3",
   "language": "python",
   "name": "python3"
  },
  "language_info": {
   "codemirror_mode": {
    "name": "ipython",
    "version": 3
   },
   "file_extension": ".py",
   "mimetype": "text/x-python",
   "name": "python",
   "nbconvert_exporter": "python",
   "pygments_lexer": "ipython3",
   "version": "3.7.3"
  }
 },
 "nbformat": 4,
 "nbformat_minor": 2
}
